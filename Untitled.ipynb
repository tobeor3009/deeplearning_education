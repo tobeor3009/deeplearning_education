{
 "cells": [
  {
   "cell_type": "code",
   "execution_count": 14,
   "id": "d5c1b0b7",
   "metadata": {},
   "outputs": [],
   "source": [
    "class Bread():\n",
    "    def __init__(self):\n",
    "        self.base_ingrident = \"flour\"\n",
    "        \n",
    "    def crash(self):\n",
    "        print(\"부서짐\")\n",
    "    \n",
    "class Cookie(Bread):\n",
    "    def __init__(self):\n",
    "        super().__init__()\n",
    "        self.add_ingrident = \"chocochip\"\n",
    "    "
   ]
  },
  {
   "cell_type": "code",
   "execution_count": 15,
   "id": "0fe1240a",
   "metadata": {},
   "outputs": [],
   "source": [
    "cookie = Cookie()"
   ]
  },
  {
   "cell_type": "code",
   "execution_count": 16,
   "id": "b0590d1e",
   "metadata": {},
   "outputs": [
    {
     "name": "stdout",
     "output_type": "stream",
     "text": [
      "부서짐\n"
     ]
    }
   ],
   "source": [
    "cookie.crash()"
   ]
  },
  {
   "cell_type": "code",
   "execution_count": null,
   "id": "0c86e3eb",
   "metadata": {},
   "outputs": [],
   "source": []
  }
 ],
 "metadata": {
  "kernelspec": {
   "display_name": "Python 3",
   "language": "python",
   "name": "python3"
  },
  "language_info": {
   "codemirror_mode": {
    "name": "ipython",
    "version": 3
   },
   "file_extension": ".py",
   "mimetype": "text/x-python",
   "name": "python",
   "nbconvert_exporter": "python",
   "pygments_lexer": "ipython3",
   "version": "3.8.8"
  }
 },
 "nbformat": 4,
 "nbformat_minor": 5
}
