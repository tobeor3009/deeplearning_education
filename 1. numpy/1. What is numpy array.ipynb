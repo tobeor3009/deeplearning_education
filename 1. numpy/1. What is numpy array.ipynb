{
 "cells": [
  {
   "cell_type": "code",
   "execution_count": 1,
   "id": "bf813138",
   "metadata": {},
   "outputs": [
    {
     "name": "stderr",
     "output_type": "stream",
     "text": [
      "C:\\Users\\gr300\\anaconda3\\lib\\site-packages\\numpy\\_distributor_init.py:30: UserWarning: loaded more than 1 DLL from .libs:\n",
      "C:\\Users\\gr300\\anaconda3\\lib\\site-packages\\numpy\\.libs\\libopenblas.EL2C6PLE4ZYW3ECEVIV3OXXGRN2NRFM2.gfortran-win_amd64.dll\n",
      "C:\\Users\\gr300\\anaconda3\\lib\\site-packages\\numpy\\.libs\\libopenblas.WCDJNK7YVMPZQ2ME2ZZHJJRJ3JIKNDB7.gfortran-win_amd64.dll\n",
      "  warnings.warn(\"loaded more than 1 DLL from .libs:\"\n"
     ]
    }
   ],
   "source": [
    "import numpy as np"
   ]
  },
  {
   "cell_type": "markdown",
   "id": "5febe132",
   "metadata": {},
   "source": [
    "# Image Matrix or Vector"
   ]
  },
  {
   "cell_type": "code",
   "execution_count": 9,
   "id": "57257dd3",
   "metadata": {},
   "outputs": [
    {
     "name": "stdout",
     "output_type": "stream",
     "text": [
      "Array: [1 2 3]\n",
      "Shape: (3,)\n",
      "Ndim: 1\n",
      "Array: [[1 2]\n",
      " [3 4]]\n",
      "Shape: (2, 2)\n",
      "Ndim: 2\n",
      "Array: [[1 2 3]\n",
      " [1 2 3]]\n",
      "Shape: (2, 3)\n",
      "Ndim: 2\n"
     ]
    }
   ],
   "source": [
    "vector = np.array([1, 2, 3])\n",
    "print(f\"Array: {vector}\")\n",
    "print(f\"Shape: {vector.shape}\")\n",
    "print(f\"Ndim: {vector.ndim}\")\n",
    "matrix = np.array([[1, 2], [3, 4]])\n",
    "print(f\"Array: {matrix}\")\n",
    "print(f\"Shape: {matrix.shape}\")\n",
    "print(f\"Ndim: {matrix.ndim}\")\n",
    "matrix = np.array([vector, vector])\n",
    "print(f\"Array: {matrix}\")\n",
    "print(f\"Shape: {matrix.shape}\")\n",
    "print(f\"Ndim: {matrix.ndim}\")"
   ]
  },
  {
   "cell_type": "markdown",
   "id": "ff3da600",
   "metadata": {},
   "source": [
    "# Check Vector Operator"
   ]
  },
  {
   "cell_type": "code",
   "execution_count": 13,
   "id": "91d36954",
   "metadata": {},
   "outputs": [
    {
     "name": "stdout",
     "output_type": "stream",
     "text": [
      "vector Add: [2 4 6]\n",
      "vector substract: [0 0 0]\n",
      "vector multiply: [1 4 9]\n",
      "vector divide: [1. 1. 1.]\n",
      "vector dot product: 14\n",
      "vector dot product: 14\n",
      "vector matrix multiply: 14\n"
     ]
    }
   ],
   "source": [
    "vector = np.array([1, 2, 3])\n",
    "print(f\"vector Add: {vector + vector}\")\n",
    "print(f\"vector substract: {vector - vector}\")\n",
    "print(f\"vector multiply: {vector * vector}\")\n",
    "print(f\"vector divide: {vector / vector}\")\n",
    "print(f\"vector dot product: {np.dot(vector, vector)}\")\n",
    "print(f\"vector matrix product: {vector @ vector}\")\n",
    "print(f\"vector matrix multiply: {np.matmul(vector, vector)}\")"
   ]
  },
  {
   "cell_type": "markdown",
   "id": "732a1376",
   "metadata": {},
   "source": [
    "# Check Matrix Operator"
   ]
  },
  {
   "cell_type": "code",
   "execution_count": 3,
   "id": "cdc3f6d3",
   "metadata": {},
   "outputs": [
    {
     "name": "stdout",
     "output_type": "stream",
     "text": [
      "matrix Add: [[2 4]\n",
      " [6 8]]\n",
      "matrix substract: [[0 0]\n",
      " [0 0]]\n",
      "matrix elmentwise multiply: [[ 1  4]\n",
      " [ 9 16]]\n",
      "matrix divide: [[1. 1.]\n",
      " [1. 1.]]\n",
      "matrix matrix multiply: [[ 7 10]\n",
      " [15 22]]\n",
      "matrix matrix multiply: [[ 7 10]\n",
      " [15 22]]\n",
      "matrix dot product: [[ 7 10]\n",
      " [15 22]]\n"
     ]
    }
   ],
   "source": [
    "matrix = np.array([[1, 2] , [3, 4]])\n",
    "print(f\"matrix Add: {matrix + matrix}\")\n",
    "print(f\"matrix substract: {matrix - matrix}\")\n",
    "print(f\"matrix elmentwise multiply: {matrix * matrix}\")\n",
    "print(f\"matrix divide: {matrix / matrix}\")\n",
    "print(f\"matrix matrix multiply: {matrix @ matrix}\")\n",
    "print(f\"matrix matrix multiply: {np.matmul(matrix, matrix)}\")\n",
    "print(f\"matrix dot product: {np.dot(matrix, matrix)}\")"
   ]
  },
  {
   "cell_type": "markdown",
   "id": "51d1ef45",
   "metadata": {},
   "source": [
    "# numpy Calculate many things"
   ]
  },
  {
   "cell_type": "code",
   "execution_count": 5,
   "id": "a679d2cc",
   "metadata": {},
   "outputs": [
    {
     "name": "stdout",
     "output_type": "stream",
     "text": [
      "mean of matrix: 2.5 or 2.5\n",
      "std of matrix: 1.118033988749895 or 1.118033988749895\n",
      "min of matrix: 1 or 1\n",
      "max of matrix: 4 or 4\n",
      "min row of matrix: [1 3] or [1 3]\n"
     ]
    }
   ],
   "source": [
    "matrix = np.array([[1, 2] , [3, 4]])\n",
    "\n",
    "print(f\"mean of matrix: {np.mean(matrix)} or {matrix.mean()}\")\n",
    "print(f\"std of matrix: {np.std(matrix)} or {matrix.std()}\")\n",
    "print(f\"min of matrix: {np.min(matrix)} or {matrix.min()}\")\n",
    "print(f\"max of matrix: {np.max(matrix)} or {matrix.max()}\")\n",
    "print(f\"min row of matrix: {np.min(matrix, 1)} or {matrix.min(1)}\")"
   ]
  },
  {
   "cell_type": "code",
   "execution_count": 16,
   "id": "a5f79974",
   "metadata": {},
   "outputs": [
    {
     "name": "stdout",
     "output_type": "stream",
     "text": [
      "[[0.91780824 0.96841337 0.94501861 0.49754591]\n",
      " [0.8288146  0.07302833 0.79644777 0.73055655]\n",
      " [0.65999926 0.47698184 0.48408742 0.10397223]]\n"
     ]
    },
    {
     "data": {
      "text/plain": [
       "array([0.65999926, 0.07302833, 0.48408742, 0.10397223])"
      ]
     },
     "execution_count": 16,
     "metadata": {},
     "output_type": "execute_result"
    }
   ],
   "source": [
    "matrix = np.random.rand(3, 4)\n",
    "print(matrix)\n",
    "np.min(matrix, 0)"
   ]
  },
  {
   "cell_type": "markdown",
   "id": "d7858240",
   "metadata": {},
   "source": [
    "# numpy reShape"
   ]
  },
  {
   "cell_type": "code",
   "execution_count": 24,
   "id": "f8a3b650",
   "metadata": {},
   "outputs": [
    {
     "name": "stdout",
     "output_type": "stream",
     "text": [
      "matrix: [[1 2]\n",
      " [3 4]]\n",
      "matrix: [1 2 3 4]\n",
      "matrix: [[1 2 3 4]]\n",
      "matrix: [[1 2 3 4]]\n"
     ]
    }
   ],
   "source": [
    "matrix = np.array([[1, 2] , [3, 4]])\n",
    "\n",
    "print(f\"matrix: {matrix}\")\n",
    "print(f\"matrix: {np.reshape(matrix, (4))}\")\n",
    "print(f\"matrix: {np.reshape(matrix, (1, 4))}\")\n",
    "print(f\"matrix: {np.reshape(matrix, (1, -1))}\")"
   ]
  },
  {
   "cell_type": "code",
   "execution_count": 25,
   "id": "509b5262",
   "metadata": {},
   "outputs": [
    {
     "ename": "ValueError",
     "evalue": "can only specify one unknown dimension",
     "output_type": "error",
     "traceback": [
      "\u001b[1;31m---------------------------------------------------------------------------\u001b[0m",
      "\u001b[1;31mValueError\u001b[0m                                Traceback (most recent call last)",
      "\u001b[1;32m<ipython-input-25-6b824207f866>\u001b[0m in \u001b[0;36m<module>\u001b[1;34m\u001b[0m\n\u001b[1;32m----> 1\u001b[1;33m \u001b[0mprint\u001b[0m\u001b[1;33m(\u001b[0m\u001b[1;34mf\"matrix: {np.reshape(matrix, (-1, -1))}\"\u001b[0m\u001b[1;33m)\u001b[0m\u001b[1;33m\u001b[0m\u001b[1;33m\u001b[0m\u001b[0m\n\u001b[0m",
      "\u001b[1;32m~\\anaconda3\\lib\\site-packages\\numpy\\core\\overrides.py\u001b[0m in \u001b[0;36mreshape\u001b[1;34m(*args, **kwargs)\u001b[0m\n",
      "\u001b[1;32m~\\anaconda3\\lib\\site-packages\\numpy\\core\\fromnumeric.py\u001b[0m in \u001b[0;36mreshape\u001b[1;34m(a, newshape, order)\u001b[0m\n\u001b[0;32m    296\u001b[0m            [5, 6]])\n\u001b[0;32m    297\u001b[0m     \"\"\"\n\u001b[1;32m--> 298\u001b[1;33m     \u001b[1;32mreturn\u001b[0m \u001b[0m_wrapfunc\u001b[0m\u001b[1;33m(\u001b[0m\u001b[0ma\u001b[0m\u001b[1;33m,\u001b[0m \u001b[1;34m'reshape'\u001b[0m\u001b[1;33m,\u001b[0m \u001b[0mnewshape\u001b[0m\u001b[1;33m,\u001b[0m \u001b[0morder\u001b[0m\u001b[1;33m=\u001b[0m\u001b[0morder\u001b[0m\u001b[1;33m)\u001b[0m\u001b[1;33m\u001b[0m\u001b[1;33m\u001b[0m\u001b[0m\n\u001b[0m\u001b[0;32m    299\u001b[0m \u001b[1;33m\u001b[0m\u001b[0m\n\u001b[0;32m    300\u001b[0m \u001b[1;33m\u001b[0m\u001b[0m\n",
      "\u001b[1;32m~\\anaconda3\\lib\\site-packages\\numpy\\core\\fromnumeric.py\u001b[0m in \u001b[0;36m_wrapfunc\u001b[1;34m(obj, method, *args, **kwds)\u001b[0m\n\u001b[0;32m     55\u001b[0m \u001b[1;33m\u001b[0m\u001b[0m\n\u001b[0;32m     56\u001b[0m     \u001b[1;32mtry\u001b[0m\u001b[1;33m:\u001b[0m\u001b[1;33m\u001b[0m\u001b[1;33m\u001b[0m\u001b[0m\n\u001b[1;32m---> 57\u001b[1;33m         \u001b[1;32mreturn\u001b[0m \u001b[0mbound\u001b[0m\u001b[1;33m(\u001b[0m\u001b[1;33m*\u001b[0m\u001b[0margs\u001b[0m\u001b[1;33m,\u001b[0m \u001b[1;33m**\u001b[0m\u001b[0mkwds\u001b[0m\u001b[1;33m)\u001b[0m\u001b[1;33m\u001b[0m\u001b[1;33m\u001b[0m\u001b[0m\n\u001b[0m\u001b[0;32m     58\u001b[0m     \u001b[1;32mexcept\u001b[0m \u001b[0mTypeError\u001b[0m\u001b[1;33m:\u001b[0m\u001b[1;33m\u001b[0m\u001b[1;33m\u001b[0m\u001b[0m\n\u001b[0;32m     59\u001b[0m         \u001b[1;31m# A TypeError occurs if the object does have such a method in its\u001b[0m\u001b[1;33m\u001b[0m\u001b[1;33m\u001b[0m\u001b[1;33m\u001b[0m\u001b[0m\n",
      "\u001b[1;31mValueError\u001b[0m: can only specify one unknown dimension"
     ]
    }
   ],
   "source": [
    "print(f\"matrix: {np.reshape(matrix, (-1, -1))}\")"
   ]
  },
  {
   "cell_type": "code",
   "execution_count": 26,
   "id": "bdeb1ef3",
   "metadata": {},
   "outputs": [
    {
     "ename": "ValueError",
     "evalue": "cannot reshape array of size 4 into shape (1,5)",
     "output_type": "error",
     "traceback": [
      "\u001b[1;31m---------------------------------------------------------------------------\u001b[0m",
      "\u001b[1;31mValueError\u001b[0m                                Traceback (most recent call last)",
      "\u001b[1;32m<ipython-input-26-0bffeab0949e>\u001b[0m in \u001b[0;36m<module>\u001b[1;34m\u001b[0m\n\u001b[1;32m----> 1\u001b[1;33m \u001b[0mprint\u001b[0m\u001b[1;33m(\u001b[0m\u001b[1;34mf\"matrix: {np.reshape(matrix, (1, 5))}\"\u001b[0m\u001b[1;33m)\u001b[0m\u001b[1;33m\u001b[0m\u001b[1;33m\u001b[0m\u001b[0m\n\u001b[0m",
      "\u001b[1;32m~\\anaconda3\\lib\\site-packages\\numpy\\core\\overrides.py\u001b[0m in \u001b[0;36mreshape\u001b[1;34m(*args, **kwargs)\u001b[0m\n",
      "\u001b[1;32m~\\anaconda3\\lib\\site-packages\\numpy\\core\\fromnumeric.py\u001b[0m in \u001b[0;36mreshape\u001b[1;34m(a, newshape, order)\u001b[0m\n\u001b[0;32m    296\u001b[0m            [5, 6]])\n\u001b[0;32m    297\u001b[0m     \"\"\"\n\u001b[1;32m--> 298\u001b[1;33m     \u001b[1;32mreturn\u001b[0m \u001b[0m_wrapfunc\u001b[0m\u001b[1;33m(\u001b[0m\u001b[0ma\u001b[0m\u001b[1;33m,\u001b[0m \u001b[1;34m'reshape'\u001b[0m\u001b[1;33m,\u001b[0m \u001b[0mnewshape\u001b[0m\u001b[1;33m,\u001b[0m \u001b[0morder\u001b[0m\u001b[1;33m=\u001b[0m\u001b[0morder\u001b[0m\u001b[1;33m)\u001b[0m\u001b[1;33m\u001b[0m\u001b[1;33m\u001b[0m\u001b[0m\n\u001b[0m\u001b[0;32m    299\u001b[0m \u001b[1;33m\u001b[0m\u001b[0m\n\u001b[0;32m    300\u001b[0m \u001b[1;33m\u001b[0m\u001b[0m\n",
      "\u001b[1;32m~\\anaconda3\\lib\\site-packages\\numpy\\core\\fromnumeric.py\u001b[0m in \u001b[0;36m_wrapfunc\u001b[1;34m(obj, method, *args, **kwds)\u001b[0m\n\u001b[0;32m     55\u001b[0m \u001b[1;33m\u001b[0m\u001b[0m\n\u001b[0;32m     56\u001b[0m     \u001b[1;32mtry\u001b[0m\u001b[1;33m:\u001b[0m\u001b[1;33m\u001b[0m\u001b[1;33m\u001b[0m\u001b[0m\n\u001b[1;32m---> 57\u001b[1;33m         \u001b[1;32mreturn\u001b[0m \u001b[0mbound\u001b[0m\u001b[1;33m(\u001b[0m\u001b[1;33m*\u001b[0m\u001b[0margs\u001b[0m\u001b[1;33m,\u001b[0m \u001b[1;33m**\u001b[0m\u001b[0mkwds\u001b[0m\u001b[1;33m)\u001b[0m\u001b[1;33m\u001b[0m\u001b[1;33m\u001b[0m\u001b[0m\n\u001b[0m\u001b[0;32m     58\u001b[0m     \u001b[1;32mexcept\u001b[0m \u001b[0mTypeError\u001b[0m\u001b[1;33m:\u001b[0m\u001b[1;33m\u001b[0m\u001b[1;33m\u001b[0m\u001b[0m\n\u001b[0;32m     59\u001b[0m         \u001b[1;31m# A TypeError occurs if the object does have such a method in its\u001b[0m\u001b[1;33m\u001b[0m\u001b[1;33m\u001b[0m\u001b[1;33m\u001b[0m\u001b[0m\n",
      "\u001b[1;31mValueError\u001b[0m: cannot reshape array of size 4 into shape (1,5)"
     ]
    }
   ],
   "source": [
    "print(f\"matrix: {np.reshape(matrix, (1, 5))}\")"
   ]
  },
  {
   "cell_type": "code",
   "execution_count": 17,
   "id": "45cebbe6",
   "metadata": {},
   "outputs": [
    {
     "ename": "ValueError",
     "evalue": "cannot reshape array of size 12 into shape (5,newaxis)",
     "output_type": "error",
     "traceback": [
      "\u001b[1;31m---------------------------------------------------------------------------\u001b[0m",
      "\u001b[1;31mValueError\u001b[0m                                Traceback (most recent call last)",
      "\u001b[1;32m<ipython-input-17-f896746aab1c>\u001b[0m in \u001b[0;36m<module>\u001b[1;34m\u001b[0m\n\u001b[1;32m----> 1\u001b[1;33m \u001b[0mprint\u001b[0m\u001b[1;33m(\u001b[0m\u001b[1;34mf\"matrix: {np.reshape(matrix, (5, -1))}\"\u001b[0m\u001b[1;33m)\u001b[0m\u001b[1;33m\u001b[0m\u001b[1;33m\u001b[0m\u001b[0m\n\u001b[0m",
      "\u001b[1;32m~\\anaconda3\\lib\\site-packages\\numpy\\core\\overrides.py\u001b[0m in \u001b[0;36mreshape\u001b[1;34m(*args, **kwargs)\u001b[0m\n",
      "\u001b[1;32m~\\anaconda3\\lib\\site-packages\\numpy\\core\\fromnumeric.py\u001b[0m in \u001b[0;36mreshape\u001b[1;34m(a, newshape, order)\u001b[0m\n\u001b[0;32m    296\u001b[0m            [5, 6]])\n\u001b[0;32m    297\u001b[0m     \"\"\"\n\u001b[1;32m--> 298\u001b[1;33m     \u001b[1;32mreturn\u001b[0m \u001b[0m_wrapfunc\u001b[0m\u001b[1;33m(\u001b[0m\u001b[0ma\u001b[0m\u001b[1;33m,\u001b[0m \u001b[1;34m'reshape'\u001b[0m\u001b[1;33m,\u001b[0m \u001b[0mnewshape\u001b[0m\u001b[1;33m,\u001b[0m \u001b[0morder\u001b[0m\u001b[1;33m=\u001b[0m\u001b[0morder\u001b[0m\u001b[1;33m)\u001b[0m\u001b[1;33m\u001b[0m\u001b[1;33m\u001b[0m\u001b[0m\n\u001b[0m\u001b[0;32m    299\u001b[0m \u001b[1;33m\u001b[0m\u001b[0m\n\u001b[0;32m    300\u001b[0m \u001b[1;33m\u001b[0m\u001b[0m\n",
      "\u001b[1;32m~\\anaconda3\\lib\\site-packages\\numpy\\core\\fromnumeric.py\u001b[0m in \u001b[0;36m_wrapfunc\u001b[1;34m(obj, method, *args, **kwds)\u001b[0m\n\u001b[0;32m     55\u001b[0m \u001b[1;33m\u001b[0m\u001b[0m\n\u001b[0;32m     56\u001b[0m     \u001b[1;32mtry\u001b[0m\u001b[1;33m:\u001b[0m\u001b[1;33m\u001b[0m\u001b[1;33m\u001b[0m\u001b[0m\n\u001b[1;32m---> 57\u001b[1;33m         \u001b[1;32mreturn\u001b[0m \u001b[0mbound\u001b[0m\u001b[1;33m(\u001b[0m\u001b[1;33m*\u001b[0m\u001b[0margs\u001b[0m\u001b[1;33m,\u001b[0m \u001b[1;33m**\u001b[0m\u001b[0mkwds\u001b[0m\u001b[1;33m)\u001b[0m\u001b[1;33m\u001b[0m\u001b[1;33m\u001b[0m\u001b[0m\n\u001b[0m\u001b[0;32m     58\u001b[0m     \u001b[1;32mexcept\u001b[0m \u001b[0mTypeError\u001b[0m\u001b[1;33m:\u001b[0m\u001b[1;33m\u001b[0m\u001b[1;33m\u001b[0m\u001b[0m\n\u001b[0;32m     59\u001b[0m         \u001b[1;31m# A TypeError occurs if the object does have such a method in its\u001b[0m\u001b[1;33m\u001b[0m\u001b[1;33m\u001b[0m\u001b[1;33m\u001b[0m\u001b[0m\n",
      "\u001b[1;31mValueError\u001b[0m: cannot reshape array of size 12 into shape (5,newaxis)"
     ]
    }
   ],
   "source": [
    "print(f\"matrix: {np.reshape(matrix, (5, -1))}\")"
   ]
  },
  {
   "cell_type": "markdown",
   "id": "99297d08",
   "metadata": {},
   "source": [
    "# numpy Transpose"
   ]
  },
  {
   "cell_type": "code",
   "execution_count": 20,
   "id": "222077cd",
   "metadata": {},
   "outputs": [
    {
     "name": "stdout",
     "output_type": "stream",
     "text": [
      "(1, 2, 3, 4)\n",
      "(1, 3, 4, 2)\n"
     ]
    }
   ],
   "source": [
    "array = np.ones((1, 2, 3, 4))\n",
    "\n",
    "print(array.shape)\n",
    "print(np.transpose(array, (0, 2, 3, 1)).shape)"
   ]
  },
  {
   "cell_type": "code",
   "execution_count": 21,
   "id": "e4598da6",
   "metadata": {
    "collapsed": true
   },
   "outputs": [
    {
     "ename": "ValueError",
     "evalue": "axes don't match array",
     "output_type": "error",
     "traceback": [
      "\u001b[1;31m---------------------------------------------------------------------------\u001b[0m",
      "\u001b[1;31mValueError\u001b[0m                                Traceback (most recent call last)",
      "\u001b[1;32m<ipython-input-21-b806dc7dedb9>\u001b[0m in \u001b[0;36m<module>\u001b[1;34m\u001b[0m\n\u001b[1;32m----> 1\u001b[1;33m \u001b[0mnp\u001b[0m\u001b[1;33m.\u001b[0m\u001b[0mtranspose\u001b[0m\u001b[1;33m(\u001b[0m\u001b[0marray\u001b[0m\u001b[1;33m,\u001b[0m \u001b[1;33m(\u001b[0m\u001b[1;36m0\u001b[0m\u001b[1;33m,\u001b[0m \u001b[1;36m2\u001b[0m\u001b[1;33m,\u001b[0m \u001b[1;36m3\u001b[0m\u001b[1;33m,\u001b[0m \u001b[1;36m1\u001b[0m\u001b[1;33m,\u001b[0m \u001b[1;36m4\u001b[0m\u001b[1;33m)\u001b[0m\u001b[1;33m)\u001b[0m\u001b[1;33m.\u001b[0m\u001b[0mshape\u001b[0m\u001b[1;33m\u001b[0m\u001b[1;33m\u001b[0m\u001b[0m\n\u001b[0m",
      "\u001b[1;32m~\\anaconda3\\lib\\site-packages\\numpy\\core\\overrides.py\u001b[0m in \u001b[0;36mtranspose\u001b[1;34m(*args, **kwargs)\u001b[0m\n",
      "\u001b[1;32m~\\anaconda3\\lib\\site-packages\\numpy\\core\\fromnumeric.py\u001b[0m in \u001b[0;36mtranspose\u001b[1;34m(a, axes)\u001b[0m\n\u001b[0;32m    658\u001b[0m \u001b[1;33m\u001b[0m\u001b[0m\n\u001b[0;32m    659\u001b[0m     \"\"\"\n\u001b[1;32m--> 660\u001b[1;33m     \u001b[1;32mreturn\u001b[0m \u001b[0m_wrapfunc\u001b[0m\u001b[1;33m(\u001b[0m\u001b[0ma\u001b[0m\u001b[1;33m,\u001b[0m \u001b[1;34m'transpose'\u001b[0m\u001b[1;33m,\u001b[0m \u001b[0maxes\u001b[0m\u001b[1;33m)\u001b[0m\u001b[1;33m\u001b[0m\u001b[1;33m\u001b[0m\u001b[0m\n\u001b[0m\u001b[0;32m    661\u001b[0m \u001b[1;33m\u001b[0m\u001b[0m\n\u001b[0;32m    662\u001b[0m \u001b[1;33m\u001b[0m\u001b[0m\n",
      "\u001b[1;32m~\\anaconda3\\lib\\site-packages\\numpy\\core\\fromnumeric.py\u001b[0m in \u001b[0;36m_wrapfunc\u001b[1;34m(obj, method, *args, **kwds)\u001b[0m\n\u001b[0;32m     55\u001b[0m \u001b[1;33m\u001b[0m\u001b[0m\n\u001b[0;32m     56\u001b[0m     \u001b[1;32mtry\u001b[0m\u001b[1;33m:\u001b[0m\u001b[1;33m\u001b[0m\u001b[1;33m\u001b[0m\u001b[0m\n\u001b[1;32m---> 57\u001b[1;33m         \u001b[1;32mreturn\u001b[0m \u001b[0mbound\u001b[0m\u001b[1;33m(\u001b[0m\u001b[1;33m*\u001b[0m\u001b[0margs\u001b[0m\u001b[1;33m,\u001b[0m \u001b[1;33m**\u001b[0m\u001b[0mkwds\u001b[0m\u001b[1;33m)\u001b[0m\u001b[1;33m\u001b[0m\u001b[1;33m\u001b[0m\u001b[0m\n\u001b[0m\u001b[0;32m     58\u001b[0m     \u001b[1;32mexcept\u001b[0m \u001b[0mTypeError\u001b[0m\u001b[1;33m:\u001b[0m\u001b[1;33m\u001b[0m\u001b[1;33m\u001b[0m\u001b[0m\n\u001b[0;32m     59\u001b[0m         \u001b[1;31m# A TypeError occurs if the object does have such a method in its\u001b[0m\u001b[1;33m\u001b[0m\u001b[1;33m\u001b[0m\u001b[1;33m\u001b[0m\u001b[0m\n",
      "\u001b[1;31mValueError\u001b[0m: axes don't match array"
     ]
    }
   ],
   "source": [
    "np.transpose(array, (0, 2, 3, 1, 4)).shape"
   ]
  },
  {
   "cell_type": "code",
   "execution_count": 28,
   "id": "7be48782",
   "metadata": {},
   "outputs": [
    {
     "data": {
      "text/plain": [
       "<function keras.backend.transpose(x)>"
      ]
     },
     "execution_count": 28,
     "metadata": {},
     "output_type": "execute_result"
    }
   ],
   "source": [
    "import torch\n",
    "from tensorflow.keras import backend\n",
    "\n",
    "torch.transpose\n",
    "backend.transpose"
   ]
  },
  {
   "cell_type": "markdown",
   "id": "8701ae56",
   "metadata": {},
   "source": [
    "# True False 뒤집기"
   ]
  },
  {
   "cell_type": "code",
   "execution_count": 27,
   "id": "59221e5c",
   "metadata": {},
   "outputs": [
    {
     "name": "stdout",
     "output_type": "stream",
     "text": [
      "[[ True False]\n",
      " [False  True]]\n",
      "[[False  True]\n",
      " [ True False]]\n"
     ]
    }
   ],
   "source": [
    "matrix = np.array([[True, False] , [False, True]])\n",
    "\n",
    "print(matrix)\n",
    "print(np.invert(matrix))"
   ]
  },
  {
   "cell_type": "markdown",
   "id": "5f2eacc7",
   "metadata": {},
   "source": [
    "# Array 값 조건별로 할당하기"
   ]
  },
  {
   "cell_type": "code",
   "execution_count": 16,
   "id": "b3934e9a",
   "metadata": {},
   "outputs": [
    {
     "name": "stdout",
     "output_type": "stream",
     "text": [
      "[[1 2]\n",
      " [3 4]]\n",
      "[[ True False]\n",
      " [False  True]]\n",
      "[[5 2]\n",
      " [3 5]]\n"
     ]
    }
   ],
   "source": [
    "matrix = np.array([[1, 2] , [3, 4]])\n",
    "bool_matrix = np.array([[True, False] , [False, True]])\n",
    "print(matrix)\n",
    "print(bool_matrix)\n",
    "matrix[bool_matrix] = 5\n",
    "print(matrix)\n"
   ]
  },
  {
   "cell_type": "code",
   "execution_count": 30,
   "id": "dfe40235",
   "metadata": {},
   "outputs": [
    {
     "name": "stdout",
     "output_type": "stream",
     "text": [
      "[[5 2]\n",
      " [5 4]]\n"
     ]
    }
   ],
   "source": [
    "matrix = np.array([[1, 2] , [3, 4]])\n",
    "matrix[matrix % 2 == 1] = 5\n",
    "print(matrix)"
   ]
  },
  {
   "cell_type": "code",
   "execution_count": 23,
   "id": "0f34b73e",
   "metadata": {},
   "outputs": [
    {
     "name": "stdout",
     "output_type": "stream",
     "text": [
      "[[1 2]\n",
      " [3 4]]\n",
      "[[ True False]\n",
      " [ True False]]\n",
      "[[5 2]\n",
      " [5 4]]\n"
     ]
    }
   ],
   "source": [
    "matrix = np.array([[1, 2] , [3, 4]])\n",
    "print(matrix)\n",
    "is_odd_matrix = matrix % 2 == 1\n",
    "print(is_odd_matrix)\n",
    "matrix[is_odd_matrix] = 5\n",
    "print(matrix)\n"
   ]
  },
  {
   "cell_type": "code",
   "execution_count": 31,
   "id": "5a70782a",
   "metadata": {},
   "outputs": [
    {
     "name": "stdout",
     "output_type": "stream",
     "text": [
      "[[1 2]\n",
      " [3 4]]\n",
      "[[False  True]\n",
      " [False  True]]\n",
      "[[1 5]\n",
      " [3 5]]\n"
     ]
    }
   ],
   "source": [
    "matrix = np.array([[1, 2] , [3, 4]])\n",
    "print(matrix)\n",
    "is_odd_matrix = matrix % 2 == 1\n",
    "is_even_matrix = np.invert(is_odd_matrix)\n",
    "print(is_even_matrix)\n",
    "matrix[is_even_matrix] = 5\n",
    "print(matrix)"
   ]
  },
  {
   "cell_type": "code",
   "execution_count": null,
   "id": "08aeea39",
   "metadata": {},
   "outputs": [],
   "source": []
  }
 ],
 "metadata": {
  "kernelspec": {
   "display_name": "Python 3",
   "language": "python",
   "name": "python3"
  },
  "language_info": {
   "codemirror_mode": {
    "name": "ipython",
    "version": 3
   },
   "file_extension": ".py",
   "mimetype": "text/x-python",
   "name": "python",
   "nbconvert_exporter": "python",
   "pygments_lexer": "ipython3",
   "version": "3.8.8"
  }
 },
 "nbformat": 4,
 "nbformat_minor": 5
}
