{
 "cells": [
  {
   "cell_type": "markdown",
   "id": "ba0b790e",
   "metadata": {},
   "source": [
    "# Class 란?\n",
    "# 필요한 모든것들을 한곳에 우겨넣은 것?\n",
    "# 같이 사용되는 변수와 함수를 같이 넣을수 있는 설계서 (빵틀?)\n",
    "# instance => class란 빵틀에서 나오는 빵"
   ]
  },
  {
   "cell_type": "code",
   "execution_count": 13,
   "id": "fc7d493b",
   "metadata": {},
   "outputs": [],
   "source": [
    "class MetalSlug():\n",
    "    def __init__(self, hp):\n",
    "        self.hp = hp\n",
    "        self.boarding = False\n",
    "    \n",
    "    def get_hit(self):\n",
    "        self.hp -= 1\n",
    "        if self.hp == 0:\n",
    "            print(\"escape\")"
   ]
  },
  {
   "cell_type": "code",
   "execution_count": 14,
   "id": "a69ce179",
   "metadata": {
    "scrolled": true
   },
   "outputs": [
    {
     "name": "stdout",
     "output_type": "stream",
     "text": [
      "3 False\n"
     ]
    }
   ],
   "source": [
    "robot_slug = MetalSlug(hp=3)\n",
    "print(robot_slug.hp, robot_slug.boarding)\n"
   ]
  },
  {
   "cell_type": "code",
   "execution_count": 17,
   "id": "a2644d6a",
   "metadata": {},
   "outputs": [
    {
     "name": "stdout",
     "output_type": "stream",
     "text": [
      "escape\n"
     ]
    }
   ],
   "source": [
    "robot_slug.get_hit()"
   ]
  },
  {
   "cell_type": "code",
   "execution_count": null,
   "id": "1f6ad7e5",
   "metadata": {},
   "outputs": [],
   "source": []
  }
 ],
 "metadata": {
  "kernelspec": {
   "display_name": "Python 3",
   "language": "python",
   "name": "python3"
  },
  "language_info": {
   "codemirror_mode": {
    "name": "ipython",
    "version": 3
   },
   "file_extension": ".py",
   "mimetype": "text/x-python",
   "name": "python",
   "nbconvert_exporter": "python",
   "pygments_lexer": "ipython3",
   "version": "3.8.8"
  }
 },
 "nbformat": 4,
 "nbformat_minor": 5
}
