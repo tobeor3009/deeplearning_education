{
 "cells": [
  {
   "cell_type": "markdown",
   "id": "054a7df5",
   "metadata": {},
   "source": [
    "# 함수 정의\n",
    "item_sum = item_sum + item <=> item_sum +=  item"
   ]
  },
  {
   "cell_type": "code",
   "execution_count": 10,
   "id": "656d5cdd",
   "metadata": {},
   "outputs": [
    {
     "name": "stdout",
     "output_type": "stream",
     "text": [
      "10\n",
      "6\n"
     ]
    }
   ],
   "source": [
    "def get_sum_of_list(check_list):\n",
    "    item_sum = 0\n",
    "    for item in check_list:\n",
    "        item_sum += item\n",
    "    return item_sum\n",
    "\n",
    "def get_multiple_2_int(check_int):\n",
    "    return check_int * 2\n",
    "\n",
    "\n",
    "print(get_sum_of_list([1, 2, 3, 4]))\n",
    "print(get_multiple_2_int(3))\n"
   ]
  },
  {
   "cell_type": "code",
   "execution_count": 3,
   "id": "314a8d8b",
   "metadata": {},
   "outputs": [
    {
     "data": {
      "text/plain": [
       "10"
      ]
     },
     "execution_count": 3,
     "metadata": {},
     "output_type": "execute_result"
    }
   ],
   "source": [
    "sum([1, 2, 3, 4])"
   ]
  },
  {
   "cell_type": "code",
   "execution_count": 4,
   "id": "a87adda1",
   "metadata": {},
   "outputs": [],
   "source": [
    "temp = get_sum_of_list"
   ]
  },
  {
   "cell_type": "code",
   "execution_count": 6,
   "id": "ad751960",
   "metadata": {},
   "outputs": [
    {
     "data": {
      "text/plain": [
       "10"
      ]
     },
     "execution_count": 6,
     "metadata": {},
     "output_type": "execute_result"
    }
   ],
   "source": [
    "temp([1, 2, 3, 4])"
   ]
  },
  {
   "cell_type": "markdown",
   "id": "97623336",
   "metadata": {},
   "source": [
    "# 함수 정의 (lambda)"
   ]
  },
  {
   "cell_type": "code",
   "execution_count": 13,
   "id": "2327ebe2",
   "metadata": {},
   "outputs": [
    {
     "name": "stdout",
     "output_type": "stream",
     "text": [
      "<class 'function'>\n",
      "6\n",
      "<class 'function'>\n",
      "6\n"
     ]
    }
   ],
   "source": [
    "def get_multiple_2_int(check_int):\n",
    "    return check_int * 2\n",
    "print(type(get_multiple_2_int))\n",
    "print(get_multiple_2_int(3))\n",
    "\n",
    "get_multiple_2_int = lambda x: x * 2\n",
    "print(type(get_multiple_2_int))\n",
    "print(get_multiple_2_int(3))\n"
   ]
  },
  {
   "cell_type": "markdown",
   "id": "541ab851",
   "metadata": {},
   "source": [
    "# 함수 호출 가능 여부를 Callable"
   ]
  },
  {
   "cell_type": "code",
   "execution_count": 15,
   "id": "c6766e3d",
   "metadata": {},
   "outputs": [
    {
     "data": {
      "text/plain": [
       "6"
      ]
     },
     "execution_count": 15,
     "metadata": {},
     "output_type": "execute_result"
    }
   ],
   "source": [
    "get_multiple_2_int(3)"
   ]
  },
  {
   "cell_type": "code",
   "execution_count": 17,
   "id": "2edd712e",
   "metadata": {},
   "outputs": [
    {
     "name": "stdout",
     "output_type": "stream",
     "text": [
      "<class 'int'>\n"
     ]
    },
    {
     "ename": "TypeError",
     "evalue": "'int' object is not callable",
     "output_type": "error",
     "traceback": [
      "\u001b[1;31m---------------------------------------------------------------------------\u001b[0m",
      "\u001b[1;31mTypeError\u001b[0m                                 Traceback (most recent call last)",
      "\u001b[1;32m<ipython-input-17-d5be03c29558>\u001b[0m in \u001b[0;36m<module>\u001b[1;34m\u001b[0m\n\u001b[0;32m      1\u001b[0m \u001b[0ma\u001b[0m \u001b[1;33m=\u001b[0m \u001b[1;36m5\u001b[0m\u001b[1;33m\u001b[0m\u001b[1;33m\u001b[0m\u001b[0m\n\u001b[0;32m      2\u001b[0m \u001b[0mprint\u001b[0m\u001b[1;33m(\u001b[0m\u001b[0mtype\u001b[0m\u001b[1;33m(\u001b[0m\u001b[0ma\u001b[0m\u001b[1;33m)\u001b[0m\u001b[1;33m)\u001b[0m\u001b[1;33m\u001b[0m\u001b[1;33m\u001b[0m\u001b[0m\n\u001b[1;32m----> 3\u001b[1;33m \u001b[0ma\u001b[0m\u001b[1;33m(\u001b[0m\u001b[1;36m3\u001b[0m\u001b[1;33m)\u001b[0m\u001b[1;33m\u001b[0m\u001b[1;33m\u001b[0m\u001b[0m\n\u001b[0m",
      "\u001b[1;31mTypeError\u001b[0m: 'int' object is not callable"
     ]
    }
   ],
   "source": [
    "a = 5\n",
    "print(type(a))\n",
    "a(3)"
   ]
  },
  {
   "cell_type": "code",
   "execution_count": 20,
   "id": "c44d137a",
   "metadata": {},
   "outputs": [
    {
     "name": "stdout",
     "output_type": "stream",
     "text": [
      "<class 'function'>\n"
     ]
    },
    {
     "data": {
      "text/plain": [
       "6"
      ]
     },
     "execution_count": 20,
     "metadata": {},
     "output_type": "execute_result"
    }
   ],
   "source": [
    "a = get_multiple_2_int\n",
    "print(type(a))\n",
    "a(3)"
   ]
  },
  {
   "cell_type": "code",
   "execution_count": 19,
   "id": "a8fc339c",
   "metadata": {},
   "outputs": [
    {
     "name": "stdout",
     "output_type": "stream",
     "text": [
      "6\n"
     ]
    },
    {
     "data": {
      "text/plain": [
       "6"
      ]
     },
     "execution_count": 19,
     "metadata": {},
     "output_type": "execute_result"
    }
   ],
   "source": [
    "print(get_multiple_2_int(3))\n",
    "get_multiple_2_int.__call__(3)"
   ]
  },
  {
   "cell_type": "markdown",
   "id": "b5a099b1",
   "metadata": {},
   "source": [
    "# argument? keyword argument? default argument?"
   ]
  },
  {
   "cell_type": "code",
   "execution_count": 22,
   "id": "479a7ae4",
   "metadata": {},
   "outputs": [
    {
     "name": "stdout",
     "output_type": "stream",
     "text": [
      "6\n",
      "6\n"
     ]
    }
   ],
   "source": [
    "def get_multiple_2_int(check_int):\n",
    "    return check_int * 2\n",
    "\n",
    "\n",
    "print(get_multiple_2_int(3))\n",
    "print(get_multiple_2_int(check_int=3))"
   ]
  },
  {
   "cell_type": "markdown",
   "id": "a5055bfa",
   "metadata": {},
   "source": [
    "# arugment"
   ]
  },
  {
   "cell_type": "code",
   "execution_count": 26,
   "id": "a5978bb6",
   "metadata": {},
   "outputs": [
    {
     "ename": "TypeError",
     "evalue": "get_sum_int() missing 1 required positional argument: 'int_b'",
     "output_type": "error",
     "traceback": [
      "\u001b[1;31m---------------------------------------------------------------------------\u001b[0m",
      "\u001b[1;31mTypeError\u001b[0m                                 Traceback (most recent call last)",
      "\u001b[1;32m<ipython-input-26-32a0c77ae51c>\u001b[0m in \u001b[0;36m<module>\u001b[1;34m\u001b[0m\n\u001b[0;32m      2\u001b[0m     \u001b[1;32mreturn\u001b[0m \u001b[0mint_a\u001b[0m \u001b[1;33m+\u001b[0m \u001b[0mint_b\u001b[0m\u001b[1;33m\u001b[0m\u001b[1;33m\u001b[0m\u001b[0m\n\u001b[0;32m      3\u001b[0m \u001b[1;33m\u001b[0m\u001b[0m\n\u001b[1;32m----> 4\u001b[1;33m \u001b[0mprint\u001b[0m\u001b[1;33m(\u001b[0m\u001b[0mget_sum_int\u001b[0m\u001b[1;33m(\u001b[0m\u001b[1;36m3\u001b[0m\u001b[1;33m)\u001b[0m\u001b[1;33m)\u001b[0m\u001b[1;33m\u001b[0m\u001b[1;33m\u001b[0m\u001b[0m\n\u001b[0m",
      "\u001b[1;31mTypeError\u001b[0m: get_sum_int() missing 1 required positional argument: 'int_b'"
     ]
    }
   ],
   "source": [
    "def get_sum_int(int_a, int_b):\n",
    "    return int_a + int_b\n",
    "\n",
    "print(get_sum_int(3))\n"
   ]
  },
  {
   "cell_type": "code",
   "execution_count": 25,
   "id": "d6d9f952",
   "metadata": {},
   "outputs": [
    {
     "name": "stdout",
     "output_type": "stream",
     "text": [
      "5\n"
     ]
    }
   ],
   "source": [
    "def get_sum_int(int_a, int_b):\n",
    "    return int_a + int_b\n",
    "\n",
    "print(get_sum_int(3, 2))\n"
   ]
  },
  {
   "cell_type": "markdown",
   "id": "c3600925",
   "metadata": {},
   "source": [
    "# default argment"
   ]
  },
  {
   "cell_type": "code",
   "execution_count": 28,
   "id": "a12b76ae",
   "metadata": {},
   "outputs": [
    {
     "name": "stdout",
     "output_type": "stream",
     "text": [
      "3 1\n",
      "4\n"
     ]
    }
   ],
   "source": [
    "def get_sum_int(int_a, int_b=1):\n",
    "    print(int_a, int_b)\n",
    "    return int_a + int_b\n",
    "\n",
    "print(get_sum_int(3))\n"
   ]
  },
  {
   "cell_type": "markdown",
   "id": "eecdefab",
   "metadata": {},
   "source": [
    "# Keyword Argument"
   ]
  },
  {
   "cell_type": "code",
   "execution_count": 31,
   "id": "3326894a",
   "metadata": {},
   "outputs": [
    {
     "name": "stdout",
     "output_type": "stream",
     "text": [
      "3 2\n",
      "5\n",
      "3 2\n",
      "5\n"
     ]
    }
   ],
   "source": [
    "def get_sum_int(int_a, int_b=1):\n",
    "    print(int_a, int_b)\n",
    "    return int_a + int_b\n",
    "\n",
    "print(get_sum_int(3, 2))\n",
    "print(get_sum_int(int_b=2, int_a=3))"
   ]
  },
  {
   "cell_type": "markdown",
   "id": "907be311",
   "metadata": {},
   "source": [
    "# 함수를 사용하는 자잘한 팁"
   ]
  },
  {
   "cell_type": "code",
   "execution_count": 32,
   "id": "827965dd",
   "metadata": {},
   "outputs": [
    {
     "name": "stdout",
     "output_type": "stream",
     "text": [
      "3 2\n"
     ]
    },
    {
     "data": {
      "text/plain": [
       "5"
      ]
     },
     "execution_count": 32,
     "metadata": {},
     "output_type": "execute_result"
    }
   ],
   "source": [
    "arg_tuple = (3, 2)\n",
    "\n",
    "def get_sum_int(int_a, int_b=1):\n",
    "    print(int_a, int_b)\n",
    "    return int_a + int_b\n",
    "\n",
    "get_sum_int(3, 2)"
   ]
  },
  {
   "cell_type": "code",
   "execution_count": 33,
   "id": "4ee7d11a",
   "metadata": {},
   "outputs": [
    {
     "name": "stdout",
     "output_type": "stream",
     "text": [
      "(3, 2) 1\n"
     ]
    },
    {
     "ename": "TypeError",
     "evalue": "can only concatenate tuple (not \"int\") to tuple",
     "output_type": "error",
     "traceback": [
      "\u001b[1;31m---------------------------------------------------------------------------\u001b[0m",
      "\u001b[1;31mTypeError\u001b[0m                                 Traceback (most recent call last)",
      "\u001b[1;32m<ipython-input-33-f50b030151d3>\u001b[0m in \u001b[0;36m<module>\u001b[1;34m\u001b[0m\n\u001b[1;32m----> 1\u001b[1;33m \u001b[0mget_sum_int\u001b[0m\u001b[1;33m(\u001b[0m\u001b[0marg_tuple\u001b[0m\u001b[1;33m)\u001b[0m\u001b[1;33m\u001b[0m\u001b[1;33m\u001b[0m\u001b[0m\n\u001b[0m",
      "\u001b[1;32m<ipython-input-32-a671723f433c>\u001b[0m in \u001b[0;36mget_sum_int\u001b[1;34m(int_a, int_b)\u001b[0m\n\u001b[0;32m      3\u001b[0m \u001b[1;32mdef\u001b[0m \u001b[0mget_sum_int\u001b[0m\u001b[1;33m(\u001b[0m\u001b[0mint_a\u001b[0m\u001b[1;33m,\u001b[0m \u001b[0mint_b\u001b[0m\u001b[1;33m=\u001b[0m\u001b[1;36m1\u001b[0m\u001b[1;33m)\u001b[0m\u001b[1;33m:\u001b[0m\u001b[1;33m\u001b[0m\u001b[1;33m\u001b[0m\u001b[0m\n\u001b[0;32m      4\u001b[0m     \u001b[0mprint\u001b[0m\u001b[1;33m(\u001b[0m\u001b[0mint_a\u001b[0m\u001b[1;33m,\u001b[0m \u001b[0mint_b\u001b[0m\u001b[1;33m)\u001b[0m\u001b[1;33m\u001b[0m\u001b[1;33m\u001b[0m\u001b[0m\n\u001b[1;32m----> 5\u001b[1;33m     \u001b[1;32mreturn\u001b[0m \u001b[0mint_a\u001b[0m \u001b[1;33m+\u001b[0m \u001b[0mint_b\u001b[0m\u001b[1;33m\u001b[0m\u001b[1;33m\u001b[0m\u001b[0m\n\u001b[0m\u001b[0;32m      6\u001b[0m \u001b[1;33m\u001b[0m\u001b[0m\n\u001b[0;32m      7\u001b[0m \u001b[0mget_sum_int\u001b[0m\u001b[1;33m(\u001b[0m\u001b[1;36m3\u001b[0m\u001b[1;33m,\u001b[0m \u001b[1;36m2\u001b[0m\u001b[1;33m)\u001b[0m\u001b[1;33m\u001b[0m\u001b[1;33m\u001b[0m\u001b[0m\n",
      "\u001b[1;31mTypeError\u001b[0m: can only concatenate tuple (not \"int\") to tuple"
     ]
    }
   ],
   "source": [
    "get_sum_int(arg_tuple)"
   ]
  },
  {
   "cell_type": "code",
   "execution_count": 34,
   "id": "32236408",
   "metadata": {},
   "outputs": [
    {
     "name": "stdout",
     "output_type": "stream",
     "text": [
      "3 2\n"
     ]
    },
    {
     "data": {
      "text/plain": [
       "5"
      ]
     },
     "execution_count": 34,
     "metadata": {},
     "output_type": "execute_result"
    }
   ],
   "source": [
    "get_sum_int(*arg_tuple)"
   ]
  },
  {
   "cell_type": "code",
   "execution_count": null,
   "id": "33406902",
   "metadata": {},
   "outputs": [],
   "source": []
  }
 ],
 "metadata": {
  "kernelspec": {
   "display_name": "Python 3",
   "language": "python",
   "name": "python3"
  },
  "language_info": {
   "codemirror_mode": {
    "name": "ipython",
    "version": 3
   },
   "file_extension": ".py",
   "mimetype": "text/x-python",
   "name": "python",
   "nbconvert_exporter": "python",
   "pygments_lexer": "ipython3",
   "version": "3.8.8"
  }
 },
 "nbformat": 4,
 "nbformat_minor": 5
}
