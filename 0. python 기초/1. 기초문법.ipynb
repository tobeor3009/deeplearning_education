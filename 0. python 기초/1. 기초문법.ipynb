{
 "cells": [
  {
   "cell_type": "markdown",
   "id": "bd732719",
   "metadata": {},
   "source": [
    "# 변수"
   ]
  },
  {
   "cell_type": "code",
   "execution_count": 3,
   "id": "cf7fd0cd",
   "metadata": {},
   "outputs": [
    {
     "name": "stdout",
     "output_type": "stream",
     "text": [
      "5\n"
     ]
    }
   ],
   "source": [
    "a = 5\n",
    "print(a)"
   ]
  },
  {
   "cell_type": "code",
   "execution_count": 5,
   "id": "ae241314",
   "metadata": {},
   "outputs": [
    {
     "name": "stdout",
     "output_type": "stream",
     "text": [
      "2 3\n"
     ]
    }
   ],
   "source": [
    "a, b = 2, 3\n",
    "print(a, b)"
   ]
  },
  {
   "cell_type": "markdown",
   "id": "a35a884e",
   "metadata": {},
   "source": [
    "# array 종류: tuple, list\n",
    "# tuple: immutable (불변성) 한번 만들고나서 바꾸기 금지\n",
    "# list: muttable 만들고나서 구조 변경 가능"
   ]
  },
  {
   "cell_type": "code",
   "execution_count": 16,
   "id": "a01ef691",
   "metadata": {
    "scrolled": true
   },
   "outputs": [
    {
     "name": "stdout",
     "output_type": "stream",
     "text": [
      "[1, 2, 3, 1]\n",
      "[1, 2, 3, 4]\n"
     ]
    }
   ],
   "source": [
    "test_tuple = (1, 2, 3)\n",
    "test_list = [1, 2, 3]\n",
    "\n",
    "test_list.append(1)\n",
    "print(test_list)\n",
    "test_list[3] = 4\n",
    "print(test_list)"
   ]
  },
  {
   "cell_type": "code",
   "execution_count": 13,
   "id": "4922a4f4",
   "metadata": {},
   "outputs": [
    {
     "ename": "TypeError",
     "evalue": "'tuple' object does not support item assignment",
     "output_type": "error",
     "traceback": [
      "\u001b[1;31m---------------------------------------------------------------------------\u001b[0m",
      "\u001b[1;31mTypeError\u001b[0m                                 Traceback (most recent call last)",
      "\u001b[1;32m<ipython-input-13-dbdeec75a6b4>\u001b[0m in \u001b[0;36m<module>\u001b[1;34m\u001b[0m\n\u001b[1;32m----> 1\u001b[1;33m \u001b[0mtest_tuple\u001b[0m\u001b[1;33m[\u001b[0m\u001b[1;36m0\u001b[0m\u001b[1;33m]\u001b[0m\u001b[1;33m=\u001b[0m \u001b[1;36m5\u001b[0m\u001b[1;33m\u001b[0m\u001b[1;33m\u001b[0m\u001b[0m\n\u001b[0m",
      "\u001b[1;31mTypeError\u001b[0m: 'tuple' object does not support item assignment"
     ]
    }
   ],
   "source": [
    "test_tuple[0] = 5"
   ]
  },
  {
   "cell_type": "code",
   "execution_count": 18,
   "id": "ae2f9d62",
   "metadata": {},
   "outputs": [
    {
     "name": "stdout",
     "output_type": "stream",
     "text": [
      "(1, 2, 3)\n",
      "(1, 2, 3)\n"
     ]
    }
   ],
   "source": [
    "test_tuple = (1, 2, 3)\n",
    "print(test_tuple)\n",
    "test_tuple = 1, 2, 3\n",
    "print(test_tuple)"
   ]
  },
  {
   "cell_type": "markdown",
   "id": "c9b4aab4",
   "metadata": {},
   "source": [
    "# Python Indexing"
   ]
  },
  {
   "cell_type": "code",
   "execution_count": 22,
   "id": "f00692ce",
   "metadata": {},
   "outputs": [
    {
     "name": "stdout",
     "output_type": "stream",
     "text": [
      "1\n",
      "2\n"
     ]
    }
   ],
   "source": [
    "idx = 1\n",
    "\n",
    "test_list = [1, 2, 3]\n",
    "\n",
    "print(test_list[0])\n",
    "print(test_list[idx])\n"
   ]
  },
  {
   "cell_type": "code",
   "execution_count": 24,
   "id": "5ea13da0",
   "metadata": {},
   "outputs": [
    {
     "name": "stdout",
     "output_type": "stream",
     "text": [
      "4\n",
      "4\n"
     ]
    }
   ],
   "source": [
    "test_list = [1, 2, 3, 4, 5]\n",
    "\n",
    "print(test_list[3])\n",
    "print(test_list[-2])\n"
   ]
  },
  {
   "cell_type": "code",
   "execution_count": 26,
   "id": "647229d6",
   "metadata": {},
   "outputs": [
    {
     "name": "stdout",
     "output_type": "stream",
     "text": [
      "2\n",
      "2\n"
     ]
    }
   ],
   "source": [
    "idx = 1\n",
    "\n",
    "test_list = [1, 2, 3, 4, 5]\n",
    "\n",
    "print(test_list[idx])\n",
    "print(test_list.__getitem__(idx))\n"
   ]
  },
  {
   "cell_type": "markdown",
   "id": "03debc03",
   "metadata": {},
   "source": [
    "# int, float, Str"
   ]
  },
  {
   "cell_type": "code",
   "execution_count": 31,
   "id": "6f851923",
   "metadata": {},
   "outputs": [
    {
     "name": "stdout",
     "output_type": "stream",
     "text": [
      "10 <class 'int'>\n",
      "13 <class 'int'>\n",
      "7 <class 'int'>\n",
      "2.0 <class 'float'>\n"
     ]
    }
   ],
   "source": [
    "a = 10\n",
    "b = a + 3\n",
    "c = a - 3\n",
    "d = a / 5\n",
    "print(a, type(a))\n",
    "print(b, type(b))\n",
    "print(c, type(c))\n",
    "print(d, type(d))\n"
   ]
  },
  {
   "cell_type": "code",
   "execution_count": 33,
   "id": "cc9a420e",
   "metadata": {},
   "outputs": [
    {
     "name": "stdout",
     "output_type": "stream",
     "text": [
      "16\n",
      "6\n",
      "5.5\n",
      "5\n",
      "1\n"
     ]
    }
   ],
   "source": [
    "a = 11\n",
    "\n",
    "print(a + 5)\n",
    "print(a - 5)\n",
    "print(a / 2)\n",
    "print(a // 2)\n",
    "print(a % 2)"
   ]
  },
  {
   "cell_type": "markdown",
   "id": "8f58f355",
   "metadata": {},
   "source": [
    "# Boolean"
   ]
  },
  {
   "cell_type": "code",
   "execution_count": null,
   "id": "c74dfb7f",
   "metadata": {},
   "outputs": [],
   "source": [
    "True, False"
   ]
  },
  {
   "cell_type": "code",
   "execution_count": 36,
   "id": "6e954b28",
   "metadata": {},
   "outputs": [
    {
     "name": "stdout",
     "output_type": "stream",
     "text": [
      "<class 'bool'>\n"
     ]
    }
   ],
   "source": [
    "print(type(True))"
   ]
  },
  {
   "cell_type": "code",
   "execution_count": 35,
   "id": "39603a9c",
   "metadata": {},
   "outputs": [
    {
     "name": "stdout",
     "output_type": "stream",
     "text": [
      "False\n",
      "True\n"
     ]
    }
   ],
   "source": [
    "a = 5\n",
    "print(a == 3)\n",
    "print(a != 3)"
   ]
  },
  {
   "cell_type": "markdown",
   "id": "a6644bbd",
   "metadata": {},
   "source": [
    "# if(조건문) => 이 조건을 만족하면 ~~ 해라\n",
    "# for(반복문) => 아래의 list의 item을 사용해서 ~~ 해라\n",
    "# while(조건반복문) => 아래의 조건을 만족할때까지 반복해라 "
   ]
  },
  {
   "cell_type": "code",
   "execution_count": 39,
   "id": "505f5ee7",
   "metadata": {},
   "outputs": [
    {
     "ename": "IndentationError",
     "evalue": "expected an indented block (<ipython-input-39-0786420ce327>, line 2)",
     "output_type": "error",
     "traceback": [
      "\u001b[1;36m  File \u001b[1;32m\"<ipython-input-39-0786420ce327>\"\u001b[1;36m, line \u001b[1;32m2\u001b[0m\n\u001b[1;33m    print(\"print success\")\u001b[0m\n\u001b[1;37m    ^\u001b[0m\n\u001b[1;31mIndentationError\u001b[0m\u001b[1;31m:\u001b[0m expected an indented block\n"
     ]
    }
   ],
   "source": [
    "if True:\n",
    "print(\"print success\")"
   ]
  },
  {
   "cell_type": "code",
   "execution_count": 42,
   "id": "1b8cf46d",
   "metadata": {},
   "outputs": [
    {
     "name": "stdout",
     "output_type": "stream",
     "text": [
      "print not success\n"
     ]
    }
   ],
   "source": [
    "if False:\n",
    "    print(\"print success\")\n",
    "else:\n",
    "    print(\"print not success\")"
   ]
  },
  {
   "cell_type": "code",
   "execution_count": 46,
   "id": "0718d76b",
   "metadata": {},
   "outputs": [
    {
     "name": "stdout",
     "output_type": "stream",
     "text": [
      "a is not 3\n",
      "True\n"
     ]
    }
   ],
   "source": [
    "a = 5\n",
    "\n",
    "if a != 3:\n",
    "    print(\"a is not 3\")\n",
    "print(a != 3)"
   ]
  },
  {
   "cell_type": "markdown",
   "id": "29d2d523",
   "metadata": {},
   "source": [
    "# for 문 사용법"
   ]
  },
  {
   "cell_type": "code",
   "execution_count": 51,
   "id": "f4573be9",
   "metadata": {},
   "outputs": [
    {
     "name": "stdout",
     "output_type": "stream",
     "text": [
      "4\n",
      "5\n",
      "3\n",
      "1\n",
      "7\n"
     ]
    }
   ],
   "source": [
    "for idx in [4, 5, 3, 1, 7]:\n",
    "    print(idx)"
   ]
  },
  {
   "cell_type": "code",
   "execution_count": 49,
   "id": "fab3d031",
   "metadata": {},
   "outputs": [
    {
     "name": "stdout",
     "output_type": "stream",
     "text": [
      "2\n",
      "3\n",
      "4\n",
      "5\n",
      "6\n",
      "7\n",
      "8\n",
      "9\n",
      "10\n"
     ]
    }
   ],
   "source": [
    "a = 1\n",
    "\n",
    "while a < 10:\n",
    "    a = a + 1\n",
    "    print(a)"
   ]
  },
  {
   "cell_type": "markdown",
   "id": "f40b9108",
   "metadata": {},
   "source": [
    "# try"
   ]
  },
  {
   "cell_type": "code",
   "execution_count": null,
   "id": "acfef6a7",
   "metadata": {},
   "outputs": [],
   "source": []
  }
 ],
 "metadata": {
  "kernelspec": {
   "display_name": "Python 3",
   "language": "python",
   "name": "python3"
  },
  "language_info": {
   "codemirror_mode": {
    "name": "ipython",
    "version": 3
   },
   "file_extension": ".py",
   "mimetype": "text/x-python",
   "name": "python",
   "nbconvert_exporter": "python",
   "pygments_lexer": "ipython3",
   "version": "3.8.8"
  }
 },
 "nbformat": 4,
 "nbformat_minor": 5
}
