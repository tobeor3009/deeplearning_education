{
 "cells": [
  {
   "cell_type": "code",
   "execution_count": 6,
   "id": "22a5a346",
   "metadata": {},
   "outputs": [],
   "source": [
    "import numpy as np\n",
    "from time import time"
   ]
  },
  {
   "cell_type": "markdown",
   "id": "1bc1a989",
   "metadata": {},
   "source": [
    "# Python 의 Indexing은 0 부터"
   ]
  },
  {
   "cell_type": "code",
   "execution_count": 2,
   "id": "85544b86",
   "metadata": {},
   "outputs": [
    {
     "data": {
      "text/plain": [
       "1"
      ]
     },
     "execution_count": 2,
     "metadata": {},
     "output_type": "execute_result"
    }
   ],
   "source": [
    "a = [1, 2, 3]\n",
    "\n",
    "a[0]"
   ]
  },
  {
   "cell_type": "markdown",
   "id": "56190d26",
   "metadata": {},
   "source": [
    "# 1. Python 의 Indexing은 항상 ~이상, ~미만\n",
    "# 2. 즉 [a:b] 는 a<= idx < b 를 의미\n",
    "# 3. a ~ b 사이의 정수의 갯수는?\n",
    "# 4. a <= idx < b ==> b - a"
   ]
  },
  {
   "cell_type": "code",
   "execution_count": 4,
   "id": "cb2e3721",
   "metadata": {},
   "outputs": [
    {
     "data": {
      "text/plain": [
       "[1, 2]"
      ]
     },
     "execution_count": 4,
     "metadata": {},
     "output_type": "execute_result"
    }
   ],
   "source": [
    "a = [1, 2, 3, 4, 5]\n",
    "\n",
    "# 0 <= idx < 2 ==> 0, 1\n",
    "a[0:2]"
   ]
  },
  {
   "cell_type": "markdown",
   "id": "823fdae4",
   "metadata": {},
   "source": [
    "# Python Iteration vs Numpy Operation"
   ]
  },
  {
   "cell_type": "code",
   "execution_count": 10,
   "id": "2ecbdb8d",
   "metadata": {},
   "outputs": [
    {
     "name": "stdout",
     "output_type": "stream",
     "text": [
      "1.025876760482788\n"
     ]
    }
   ],
   "source": [
    "start_time = time()\n",
    "\n",
    "num_sum = 0\n",
    "for idx in range(10000000):\n",
    "    num_sum += idx\n",
    "    \n",
    "print(time() - start_time)"
   ]
  },
  {
   "cell_type": "code",
   "execution_count": 12,
   "id": "5b32ecc1",
   "metadata": {},
   "outputs": [],
   "source": [
    "num_sum = np.array(list(range(100000000)))"
   ]
  },
  {
   "cell_type": "code",
   "execution_count": 13,
   "id": "96d11a4b",
   "metadata": {},
   "outputs": [
    {
     "name": "stdout",
     "output_type": "stream",
     "text": [
      "0.07499957084655762\n"
     ]
    }
   ],
   "source": [
    "start_time = time()\n",
    "num_sum = num_sum.sum()\n",
    "print(time() - start_time)"
   ]
  },
  {
   "cell_type": "markdown",
   "id": "487abb0e",
   "metadata": {},
   "source": [
    "# Numpy의 Indexing이 편하다"
   ]
  },
  {
   "cell_type": "code",
   "execution_count": 15,
   "id": "f2275940",
   "metadata": {},
   "outputs": [
    {
     "data": {
      "text/plain": [
       "[1, 2, 3, 4]"
      ]
     },
     "execution_count": 15,
     "metadata": {},
     "output_type": "execute_result"
    }
   ],
   "source": [
    "a = [1, 2, 3, 4, 5]\n",
    "\n",
    "# 0 <= idx < 2 ==> 0, 1\n",
    "a[0:4]"
   ]
  },
  {
   "cell_type": "code",
   "execution_count": 17,
   "id": "86b26c0a",
   "metadata": {},
   "outputs": [
    {
     "data": {
      "text/plain": [
       "array([1, 4])"
      ]
     },
     "execution_count": 17,
     "metadata": {},
     "output_type": "execute_result"
    }
   ],
   "source": [
    "a = np.array([1, 2, 3, 4, 5])\n",
    "\n",
    "a[[0, 3]]"
   ]
  },
  {
   "cell_type": "code",
   "execution_count": null,
   "id": "5ba0d14d",
   "metadata": {},
   "outputs": [],
   "source": []
  }
 ],
 "metadata": {
  "kernelspec": {
   "display_name": "Python 3",
   "language": "python",
   "name": "python3"
  },
  "language_info": {
   "codemirror_mode": {
    "name": "ipython",
    "version": 3
   },
   "file_extension": ".py",
   "mimetype": "text/x-python",
   "name": "python",
   "nbconvert_exporter": "python",
   "pygments_lexer": "ipython3",
   "version": "3.8.8"
  }
 },
 "nbformat": 4,
 "nbformat_minor": 5
}
